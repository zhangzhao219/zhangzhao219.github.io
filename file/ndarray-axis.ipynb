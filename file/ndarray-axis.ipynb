{
 "cells": [
  {
   "cell_type": "code",
   "execution_count": 1,
   "metadata": {},
   "outputs": [],
   "source": [
    "import numpy as np"
   ]
  },
  {
   "cell_type": "code",
   "execution_count": 2,
   "metadata": {},
   "outputs": [
    {
     "name": "stdout",
     "output_type": "stream",
     "text": [
      "[[ 0  1  2  3  4]\n",
      " [ 5  6  7  8  9]\n",
      " [10 11 12 13 14]] \n",
      " (3, 5) \n",
      " 2\n"
     ]
    }
   ],
   "source": [
    "a1 = np.arange(15).reshape(3, 5)\n",
    "print(a1,'\\n',a1.shape,'\\n',a1.ndim)"
   ]
  },
  {
   "cell_type": "code",
   "execution_count": 3,
   "metadata": {},
   "outputs": [
    {
     "name": "stdout",
     "output_type": "stream",
     "text": [
      "[ 0  1  2  3  4  5  6  7  8  9 10 11 12 13 14] \n",
      " (15,) \n",
      " 1\n"
     ]
    }
   ],
   "source": [
    "a2 = np.arange(15)\n",
    "print(a2,'\\n',a2.shape,'\\n',a2.ndim)"
   ]
  },
  {
   "cell_type": "code",
   "execution_count": 4,
   "metadata": {},
   "outputs": [
    {
     "name": "stdout",
     "output_type": "stream",
     "text": [
      "[[[ 0  1  2  3]\n",
      "  [ 4  5  6  7]]\n",
      "\n",
      " [[ 8  9 10 11]\n",
      "  [12 13 14 15]]\n",
      "\n",
      " [[16 17 18 19]\n",
      "  [20 21 22 23]]] \n",
      " (3, 2, 4) \n",
      " 3\n"
     ]
    }
   ],
   "source": [
    "a3 = np.arange(24).reshape(3,2,4)\n",
    "print(a3,'\\n',a3.shape,'\\n',a3.ndim)"
   ]
  },
  {
   "cell_type": "code",
   "execution_count": 5,
   "metadata": {},
   "outputs": [
    {
     "name": "stdout",
     "output_type": "stream",
     "text": [
      "[[[[ 0  1  2  3]]\n",
      "\n",
      "  [[ 4  5  6  7]]]\n",
      "\n",
      "\n",
      " [[[ 8  9 10 11]]\n",
      "\n",
      "  [[12 13 14 15]]]\n",
      "\n",
      "\n",
      " [[[16 17 18 19]]\n",
      "\n",
      "  [[20 21 22 23]]]] \n",
      " (3, 2, 1, 4) \n",
      " 4\n"
     ]
    }
   ],
   "source": [
    "a4 = np.arange(24).reshape(3,2,1,4)\n",
    "print(a4,'\\n',a4.shape,'\\n',a4.ndim)"
   ]
  },
  {
   "cell_type": "code",
   "execution_count": 6,
   "metadata": {},
   "outputs": [
    {
     "name": "stdout",
     "output_type": "stream",
     "text": [
      "origin\n",
      "[[[ 0  1  2  3]\n",
      "  [ 4  5  6  7]]\n",
      "\n",
      " [[ 8  9 10 11]\n",
      "  [12 13 14 15]]\n",
      "\n",
      " [[16 17 18 19]\n",
      "  [20 21 22 23]]] (3, 2, 4)\n",
      "axis=0\n",
      "[[24 27 30 33]\n",
      " [36 39 42 45]] (2, 4)\n",
      "axis=1\n",
      "[[ 4  6  8 10]\n",
      " [20 22 24 26]\n",
      " [36 38 40 42]] (3, 4)\n",
      "axis=2\n",
      "[[ 6 22]\n",
      " [38 54]\n",
      " [70 86]] (3, 2)\n",
      "axis=(0,1)\n",
      "[60 66 72 78] (4,)\n",
      "axis=(1,2)\n",
      "[ 28  92 156] (3,)\n",
      "axis=(0,2)\n",
      "[114 162] (2,)\n",
      "axis=(0,1,2)\n",
      "276 ()\n"
     ]
    }
   ],
   "source": [
    "print('origin')\n",
    "print(a3,a3.shape)\n",
    "print('axis=0')\n",
    "print(a3.sum(axis=0),a3.sum(axis=0).shape)\n",
    "print('axis=1')\n",
    "print(a3.sum(axis=1),a3.sum(axis=1).shape)\n",
    "print('axis=2')\n",
    "print(a3.sum(axis=2),a3.sum(axis=2).shape)\n",
    "print('axis=(0,1)')\n",
    "print(a3.sum(axis=(0,1)),a3.sum(axis=(0,1)).shape)\n",
    "print('axis=(1,2)')\n",
    "print(a3.sum(axis=(1,2)),a3.sum(axis=(1,2)).shape)\n",
    "print('axis=(0,2)')\n",
    "print(a3.sum(axis=(0,2)),a3.sum(axis=(0,2)).shape)\n",
    "print('axis=(0,1,2)')\n",
    "print(a3.sum(axis=(0,1,2)),a3.sum(axis=(0,1,2)).shape)"
   ]
  },
  {
   "cell_type": "code",
   "execution_count": 7,
   "metadata": {},
   "outputs": [
    {
     "name": "stdout",
     "output_type": "stream",
     "text": [
      "axis=(0,1)\n",
      "[[[60 66 72 78]]] (1, 1, 4)\n"
     ]
    }
   ],
   "source": [
    "print('axis=(0,1)')\n",
    "print(a3.sum(axis=(0,1),keepdims=True),a3.sum(axis=(0,1),keepdims=True).shape)"
   ]
  },
  {
   "cell_type": "code",
   "execution_count": 11,
   "metadata": {},
   "outputs": [
    {
     "name": "stdout",
     "output_type": "stream",
     "text": [
      "[[[ 0  1  2  3]\n",
      "  [ 4  5  6  7]]\n",
      "\n",
      " [[ 8  9 10 11]\n",
      "  [12 13 14 15]]\n",
      "\n",
      " [[16 17 18 19]\n",
      "  [20 21 22 23]]] (3, 2, 4)\n",
      "[[[24 25 26 27]]\n",
      "\n",
      " [[28 29 30 31]]\n",
      "\n",
      " [[32 33 34 35]]] (3, 1, 4)\n"
     ]
    }
   ],
   "source": [
    "ta = np.arange(24).reshape(3,2,4)\n",
    "tb = np.arange(24,36).reshape(3,1,4)\n",
    "print(ta,ta.shape)\n",
    "print(tb,tb.shape)"
   ]
  },
  {
   "cell_type": "code",
   "execution_count": 16,
   "metadata": {},
   "outputs": [
    {
     "name": "stdout",
     "output_type": "stream",
     "text": [
      "[[[ 0  1  2  3]\n",
      "  [ 4  5  6  7]\n",
      "  [24 25 26 27]]\n",
      "\n",
      " [[ 8  9 10 11]\n",
      "  [12 13 14 15]\n",
      "  [28 29 30 31]]\n",
      "\n",
      " [[16 17 18 19]\n",
      "  [20 21 22 23]\n",
      "  [32 33 34 35]]] (3, 3, 4)\n"
     ]
    }
   ],
   "source": [
    "print(np.concatenate((ta,tb),axis=1),np.concatenate((ta,tb),axis=1).shape)"
   ]
  }
 ],
 "metadata": {
  "kernelspec": {
   "display_name": "Python 3.8.10 64-bit",
   "language": "python",
   "name": "python3"
  },
  "language_info": {
   "codemirror_mode": {
    "name": "ipython",
    "version": 3
   },
   "file_extension": ".py",
   "mimetype": "text/x-python",
   "name": "python",
   "nbconvert_exporter": "python",
   "pygments_lexer": "ipython3",
   "version": "3.8.10"
  },
  "orig_nbformat": 4,
  "vscode": {
   "interpreter": {
    "hash": "916dbcbb3f70747c44a77c7bcd40155683ae19c65e1c03b4aa3499c5328201f1"
   }
  }
 },
 "nbformat": 4,
 "nbformat_minor": 2
}
